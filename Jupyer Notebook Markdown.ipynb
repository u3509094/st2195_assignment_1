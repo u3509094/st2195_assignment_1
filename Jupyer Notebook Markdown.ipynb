{
 "cells": [
  {
   "cell_type": "markdown",
   "metadata": {},
   "source": [
    "# ST2195 Programming for Data Science\n",
    "\n",
    "## Lee Hin Sing Raymond\n",
    "\n",
    "### Assignment 1"
   ]
  },
  {
   "cell_type": "markdown",
   "metadata": {},
   "source": [
    "This Jupyter Notebook Markdown file is created to provide introduction of previous Python assignment.\n",
    "\n",
    "In assignment 1, we have to create a Python script that prints all integers between 1 and 10.\n",
    "\n",
    "You can find the Python script in my GitHub repository, [st2195_assignment_1](#https://github.com/u3509094/st2195_assignment_1)."
   ]
  },
  {
   "cell_type": "markdown",
   "metadata": {},
   "source": [
    "I used the range function [range()](#https://www.w3schools.com/python/ref_func_range.asp) to assign a list of integers to object *x*. Then I applied the [for loop](#https://www.w3schools.com/python/python_for_loops.asp) and print function [print()](#https://www.w3schools.com/python/ref_func_print.asp) to iterate each member of the list and print it one by one."
   ]
  },
  {
   "cell_type": "markdown",
   "metadata": {},
   "source": [
    "```Python\n",
    "x = range(1,11)\n",
    "for integer in x:\n",
    "    print(integer)\n",
    "```"
   ]
  }
 ],
 "metadata": {
  "kernelspec": {
   "display_name": "Python 3",
   "language": "python",
   "name": "python3"
  },
  "language_info": {
   "codemirror_mode": {
    "name": "ipython",
    "version": 3
   },
   "file_extension": ".py",
   "mimetype": "text/x-python",
   "name": "python",
   "nbconvert_exporter": "python",
   "pygments_lexer": "ipython3",
   "version": "3.8.3"
  }
 },
 "nbformat": 4,
 "nbformat_minor": 4
}
